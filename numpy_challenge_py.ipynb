{
  "nbformat": 4,
  "nbformat_minor": 0,
  "metadata": {
    "colab": {
      "provenance": []
    },
    "kernelspec": {
      "name": "python3",
      "display_name": "Python 3"
    },
    "language_info": {
      "name": "python"
    }
  },
  "cells": [
    {
      "cell_type": "markdown",
      "source": [
        "### 1 Cоздать 3 ваших любимых эррея разными способами"
      ],
      "metadata": {
        "id": "U2SJvEGyfx7Q"
      }
    },
    {
      "cell_type": "code",
      "source": [
        "import numpy as np"
      ],
      "metadata": {
        "id": "wr3froBngFSE"
      },
      "execution_count": 1,
      "outputs": []
    },
    {
      "cell_type": "code",
      "execution_count": null,
      "metadata": {
        "id": "3vnjcoh4fhOW"
      },
      "outputs": [],
      "source": [
        "#1 преобразовать список в массив нампай\n",
        "food = ['banana', 'coffee', 'tiramisu', 'pasta', 'pizza']\n",
        "food = np.array(food)"
      ]
    },
    {
      "cell_type": "code",
      "source": [
        "food"
      ],
      "metadata": {
        "colab": {
          "base_uri": "https://localhost:8080/"
        },
        "id": "bMFi9eOUh3FL",
        "outputId": "868b4b7a-9a31-4a38-eec1-110ea0b7c21f"
      },
      "execution_count": null,
      "outputs": [
        {
          "output_type": "execute_result",
          "data": {
            "text/plain": [
              "array(['banana', 'coffee', 'tiramisu', 'pasta', 'pizza'], dtype='<U8')"
            ]
          },
          "metadata": {},
          "execution_count": 15
        }
      ]
    },
    {
      "cell_type": "code",
      "source": [
        "#2 cделать массив через np.arange\n",
        "\n",
        "birthdays_days = np.arange(2,100, 12)"
      ],
      "metadata": {
        "id": "JkkKZtwggg38"
      },
      "execution_count": null,
      "outputs": []
    },
    {
      "cell_type": "code",
      "source": [
        "birthdays_days"
      ],
      "metadata": {
        "colab": {
          "base_uri": "https://localhost:8080/"
        },
        "id": "LuOzO2SohSqa",
        "outputId": "d3f372ad-dcc6-414a-f188-7d1989ac89cb"
      },
      "execution_count": null,
      "outputs": [
        {
          "output_type": "execute_result",
          "data": {
            "text/plain": [
              "array([ 2,  7, 12, 17, 22, 27, 32, 37, 42, 47, 52, 57, 62, 67, 72, 77, 82,\n",
              "       87, 92, 97])"
            ]
          },
          "metadata": {},
          "execution_count": 12
        }
      ]
    },
    {
      "cell_type": "code",
      "source": [
        "#3 Создать с нуля массив нампай\n",
        "family = np.array(['Masha', 'Varya', 'Papa', 'Mama', 'Babuska', 'Dedushka', 'Dyada Yura'])"
      ],
      "metadata": {
        "id": "4bQKBwKsgwRp"
      },
      "execution_count": null,
      "outputs": []
    },
    {
      "cell_type": "code",
      "source": [
        "family"
      ],
      "metadata": {
        "colab": {
          "base_uri": "https://localhost:8080/"
        },
        "id": "L02EQI8yyfVY",
        "outputId": "b8829fdb-df17-42b4-b0aa-a8baa9825254"
      },
      "execution_count": null,
      "outputs": [
        {
          "output_type": "execute_result",
          "data": {
            "text/plain": [
              "array(['Masha', 'Varya', 'Papa', 'Mama', 'Babuska', 'Dedushka',\n",
              "       'Dyada Yura'], dtype='<U10')"
            ]
          },
          "metadata": {},
          "execution_count": 6
        }
      ]
    },
    {
      "cell_type": "markdown",
      "source": [
        "## 2. Функция для проверки возможности умножения матриц"
      ],
      "metadata": {
        "id": "GLjskxFcmtCN"
      }
    },
    {
      "cell_type": "code",
      "source": [
        "def multiplication_check(matrix_list):\n",
        "  matrix1 = matrix_list[0]\n",
        "  matrix2 = matrix_list[1]\n",
        "  #умножение двух неодномерных или первого неодномерного и второго одномерного\n",
        "  if (np.array(matrix1).ndim != 1 and np.array(matrix2).ndim != 1) or (np.array(matrix1).ndim != 1 and np.array(matrix2).ndim == 1):\n",
        "    if np.shape(matrix1)[1] ==  np.shape(matrix2)[0]:\n",
        "      return True\n",
        "    else:\n",
        "      return False\n",
        "  #когда первый одномерный, а второй неодномерный\n",
        "  elif np.array(matrix1).ndim == 1 and np.array(matrix2).ndim != 1:\n",
        "    if np.array(matrix1).shape[0] == np.array(matrix2).shape[0]:\n",
        "      return True\n",
        "    else:\n",
        "      return False\n",
        "  elif np.array(matrix1).ndim == 1 and np.array(matrix2).ndim == 1:\n",
        "    if np.array(matrix1).size == 1 and np.array(matrix2).size == 1:\n",
        "      return True\n",
        "    else:\n",
        "      return False    "
      ],
      "metadata": {
        "id": "udFNf59HeRRa"
      },
      "execution_count": 8,
      "outputs": []
    },
    {
      "cell_type": "markdown",
      "source": [
        "## 3. Функция для умножения"
      ],
      "metadata": {
        "id": "f1H7-s3lm1JM"
      }
    },
    {
      "cell_type": "code",
      "source": [
        "def matrix_multiplication(matrix1,matrix2):\n",
        "  if multiplication_check([matrix1, matrix2]) == True:\n",
        "    product = np.array(matrix1).dot(np.array(matrix2))\n",
        "    return product\n",
        "  else:\n",
        "    print('The matrices cannot be multiplied')"
      ],
      "metadata": {
        "id": "Ik-uBctUynu3"
      },
      "execution_count": 6,
      "outputs": []
    },
    {
      "cell_type": "markdown",
      "source": [
        "## 4. Функция для проверки списка матриц "
      ],
      "metadata": {
        "id": "PWnwupMIm56S"
      }
    },
    {
      "cell_type": "code",
      "source": [
        "def multiply_matrices(matrixes_list):\n",
        "  product = np.array(1)\n",
        "  for i in range(len(matrixes_list) - 1):\n",
        "    #в цикле берутся попарные матрицы внутри массива для умножения и попарно проверяются по правилу\n",
        "    matrixes = matrixes_list[i:i+2]\n",
        "    if multiplication_check(matrixes) == True: #проверка на условие умнножения\n",
        "      result = matrix_multiplication(matrixes[i], matrixes[i+1]) #попарное перемножение \n",
        "      product = product.dot(result) #последовательное умножение подобных матриц-результатов умножения для получения итога\n",
        "    else:\n",
        "      product = None\n",
        "\n",
        "  return product\n",
        "  "
      ],
      "metadata": {
        "id": "xKLQTXE6nl_i"
      },
      "execution_count": 44,
      "outputs": []
    },
    {
      "cell_type": "markdown",
      "source": [
        "## 5. Функция для подсчета расстояний между двумя точками в двумерном пространстве"
      ],
      "metadata": {
        "id": "cVSRyjYjeBhG"
      }
    },
    {
      "cell_type": "code",
      "source": [
        "def compute_2d_distance(point1, point2):\n",
        "  a = np.array(point1)\n",
        "  b = np.array(point2)\n",
        "  distance = np.linalg.norm(a - b)\n",
        "  return distance"
      ],
      "metadata": {
        "id": "7gokUoDk3V3K"
      },
      "execution_count": 24,
      "outputs": []
    },
    {
      "cell_type": "markdown",
      "source": [
        "## 6. Функция для подсчета расстояний между двумя точками в n-мерном пространстве"
      ],
      "metadata": {
        "id": "WudjwamlA1tg"
      }
    },
    {
      "cell_type": "code",
      "source": [
        "def compute_multidimensional_distance(point1, point2):\n",
        "  if len(point1) == len(point2):\n",
        "    a_mult = np.array(point1)\n",
        "    b_mult = np.array(point2)\n",
        "    distance = np.linalg.norm(a_mult - b_mult)\n",
        "    return distance\n",
        "  else:\n",
        "    print('the matrixes should have the same number of elements')"
      ],
      "metadata": {
        "id": "z9D8pk166gHO"
      },
      "execution_count": 40,
      "outputs": []
    },
    {
      "cell_type": "markdown",
      "source": [
        "## 7. Функция для подсчета расстояний в двумерном массиве"
      ],
      "metadata": {
        "id": "K3SJ2NY_DokL"
      }
    },
    {
      "cell_type": "code",
      "source": [
        "def compute_pair_distances(matrix):\n",
        "  matrix_arr = np.array(matrix)\n",
        "  n = matrix_arr.shape[0]\n",
        "  distances = np.zeros((n,n))\n",
        "  for i in range(n):\n",
        "    for j in range(n):\n",
        "      distances[i][j] = np.linalg.norm(matrix_arr[i] - matrix_arr[j])\n",
        "\n",
        "  return distances\n",
        "\n"
      ],
      "metadata": {
        "id": "8ZHdgAY4POA6"
      },
      "execution_count": 2,
      "outputs": []
    }
  ]
}